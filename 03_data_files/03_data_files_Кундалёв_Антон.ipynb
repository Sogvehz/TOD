{
 "cells": [
  {
   "cell_type": "markdown",
   "metadata": {},
   "source": [
    "# Форматы данных (1)"
   ]
  },
  {
   "cell_type": "markdown",
   "metadata": {},
   "source": [
    "Материалы:\n",
    "* Макрушин С.В. \"Лекция 4: Форматы данных\"\n",
    "* https://docs.python.org/3/library/json.html\n",
    "* https://docs.python.org/3/library/pickle.html\n",
    "* https://www.crummy.com/software/BeautifulSoup/bs4/doc.ru/bs4ru.html\n",
    "* Уэс Маккини. Python и анализ данных"
   ]
  },
  {
   "cell_type": "markdown",
   "metadata": {},
   "source": [
    "## Задачи для совместного разбора"
   ]
  },
  {
   "cell_type": "markdown",
   "metadata": {},
   "source": [
    "1. Вывести все адреса электронной почты, содержащиеся в адресной книге `addres-book.json`"
   ]
  },
  {
   "cell_type": "markdown",
   "metadata": {},
   "source": [
    "2. Вывести телефоны, содержащиеся в адресной книге `addres-book.json`"
   ]
  },
  {
   "cell_type": "markdown",
   "metadata": {},
   "source": [
    "3. По данным из файла `addres-book-q.xml` сформировать список словарей с телефонами каждого из людей. "
   ]
  },
  {
   "cell_type": "markdown",
   "metadata": {},
   "source": [
    "## Лабораторная работа №4"
   ]
  },
  {
   "cell_type": "markdown",
   "metadata": {},
   "source": [
    "### JSON"
   ]
  },
  {
   "cell_type": "markdown",
   "metadata": {},
   "source": [
    "1.1 Считайте файл `contributors_sample.json`. Воспользовавшись модулем `json`, преобразуйте содержимое файла в соответствующие объекты python. Выведите на экран информацию о первых 3 пользователях."
   ]
  },
  {
   "cell_type": "code",
   "execution_count": null,
   "metadata": {},
   "outputs": [],
   "source": [
    "import json\n",
    "with open(\"data/contributors_sample.json\", 'r') as f:\n",
    "    k = json.load(f)\n",
    "    print(k[:3])\n",
    "    f.close()\n",
    "k"
   ]
  },
  {
   "cell_type": "markdown",
   "metadata": {},
   "source": [
    "1.2 Выведите уникальные почтовые домены, содержащиеся в почтовых адресах людей"
   ]
  },
  {
   "cell_type": "code",
   "execution_count": null,
   "metadata": {},
   "outputs": [],
   "source": [
    "mails = {}\n",
    "for i in k:\n",
    "    mails.update({i[\"mail\"][i[\"mail\"].find(\"@\") + 1:]: 0})\n",
    "mails.keys()"
   ]
  },
  {
   "cell_type": "markdown",
   "metadata": {},
   "source": [
    "1.3 Напишите функцию, которая по `username` ищет человека и выводит информацию о нем. Если пользователь с заданным `username` отсутствует, возбудите исключение `ValueError`"
   ]
  },
  {
   "cell_type": "code",
   "execution_count": null,
   "metadata": {},
   "outputs": [],
   "source": [
    "def find_man(username):\n",
    "    for i in k:\n",
    "        if i[\"username\"] == username:\n",
    "            return i[\"name\"]\n",
    "    raise ValueError\n",
    "find_man(\"uhebert\")"
   ]
  },
  {
   "cell_type": "markdown",
   "metadata": {},
   "source": [
    "1.4 Посчитайте, сколько мужчин и женщин присутсвует в этом наборе данных."
   ]
  },
  {
   "cell_type": "code",
   "execution_count": null,
   "metadata": {},
   "outputs": [],
   "source": [
    "man, woman = 0, 0\n",
    "for i in k:\n",
    "    if i[\"sex\"] == \"M\":\n",
    "        man += 1\n",
    "    elif i[\"sex\"] == \"F\":\n",
    "        woman += 1\n",
    "print(f\"man {man}\\nwoman {woman}\")"
   ]
  },
  {
   "cell_type": "markdown",
   "metadata": {},
   "source": [
    "1.5 Создайте `pd.DataFrame` `contributors`, имеющий столбцы `id`, `username` и `sex`."
   ]
  },
  {
   "cell_type": "code",
   "execution_count": null,
   "metadata": {},
   "outputs": [],
   "source": [
    "import pandas as pd\n",
    "\n",
    "di = {}\n",
    "\n",
    "for i in [\"id\", \"username\", \"sex\"]:\n",
    "    di.update(dict.fromkeys([i], [j[i] for j in k]))\n",
    "    \n",
    "contributors = pd.DataFrame(di)\n",
    "\n",
    "contributors"
   ]
  },
  {
   "cell_type": "markdown",
   "metadata": {},
   "source": [
    "1.6 Загрузите данные из файла `recipes_sample.csv` (__ЛР2__) в таблицу `recipes`. Объедините `recipes` с таблицей `contributors` с сохранением строк в том случае, если информация о человеке отсутствует в JSON-файле. Для скольких человек информация отсутствует? "
   ]
  },
  {
   "cell_type": "code",
   "execution_count": null,
   "metadata": {},
   "outputs": [],
   "source": [
    "recipes = pd.read_csv('../02_pandas/recipes_sample.csv')\n",
    "recipes.merge(contributors, how='inner', on=None, left_on=\"contributor_id\", right_on=\"id\", left_index=False, right_index=True, sort=False, suffixes=('_x', '_y'), copy=None, indicator=False, validate=None)"
   ]
  },
  {
   "cell_type": "markdown",
   "metadata": {},
   "source": [
    "### pickle"
   ]
  },
  {
   "cell_type": "markdown",
   "metadata": {},
   "source": [
    "2.1 На основе файла `contributors_sample.json` создайте словарь следующего вида: \n",
    "```\n",
    "{\n",
    "    должность: [список username людей, занимавших эту должность]\n",
    "}\n",
    "```"
   ]
  },
  {
   "cell_type": "code",
   "execution_count": null,
   "metadata": {
    "scrolled": true
   },
   "outputs": [],
   "source": [
    "import pickle\n",
    "\n",
    "jobs = {}\n",
    "\n",
    "for i in k:\n",
    "    for j in i[\"jobs\"]:\n",
    "        try:\n",
    "            jobs[j].append(i[\"username\"])\n",
    "        except KeyError:\n",
    "            t = [i[\"username\"]]\n",
    "            jobs.update({j: t})\n",
    "            \n",
    "jobs"
   ]
  },
  {
   "cell_type": "markdown",
   "metadata": {},
   "source": [
    "2.2 Сохраните результаты в файл `job_people.pickle` и в файл `job_people.json` с использованием форматов pickle и JSON соответственно. Сравните объемы получившихся файлов. При сохранении в JSON укажите аргумент `indent`."
   ]
  },
  {
   "cell_type": "code",
   "execution_count": null,
   "metadata": {},
   "outputs": [],
   "source": [
    "with open(\"data/job_people.pickle\", \"wb\") as f:\n",
    "    pickle.dump(jobs, f)\n",
    "\n",
    "with open(\"data/job_people.json\", \"w\") as f:\n",
    "    json.dump(jobs, f)"
   ]
  },
  {
   "cell_type": "markdown",
   "metadata": {},
   "source": [
    "2.3 Считайте файл `job_people.pickle` и продемонстрируйте, что данные считались корректно. "
   ]
  },
  {
   "cell_type": "code",
   "execution_count": null,
   "metadata": {},
   "outputs": [],
   "source": [
    "with open(\"data/job_people.pickle\", \"rb\") as f:\n",
    "    print(pickle.load(f))"
   ]
  },
  {
   "cell_type": "markdown",
   "metadata": {},
   "source": [
    "### XML"
   ]
  },
  {
   "cell_type": "markdown",
   "metadata": {},
   "source": [
    "3.1 По данным файла `steps_sample.xml` сформируйте словарь с шагами по каждому рецепту вида `{id_рецепта: [\"шаг1\", \"шаг2\"]}`. Сохраните этот словарь в файл `steps_sample.json`"
   ]
  },
  {
   "cell_type": "code",
   "execution_count": null,
   "metadata": {},
   "outputs": [],
   "source": [
    "import xml.etree.ElementTree as ET\n",
    "\n",
    "recipes123 = {}\n",
    "\n",
    "tree = ET.parse('data/steps_sample.xml')\n",
    "\n",
    "for i in tree.getroot():\n",
    "    steps = []\n",
    "    for j in i[1]:\n",
    "        steps.append(j.text)\n",
    "    recipes123.update({i[0].text: steps})\n",
    "    \n",
    "with open(\"data/steps_sample.json\", \"w\") as f:\n",
    "    json.dump(recipes123, f)\n",
    "\n",
    "recipes123"
   ]
  },
  {
   "cell_type": "markdown",
   "metadata": {},
   "source": [
    "3.2 По данным файла `steps_sample.xml` сформируйте словарь следующего вида: `кол-во_шагов_в_рецепте: [список_id_рецептов]`"
   ]
  },
  {
   "cell_type": "code",
   "execution_count": null,
   "metadata": {},
   "outputs": [],
   "source": [
    "ids1_steps = {}\n",
    "\n",
    "for i in recipes123:\n",
    "    try:\n",
    "        ids1_steps[str(len(recipes123[i]))].append(i)\n",
    "    except KeyError:\n",
    "        ids1_steps.update({str(len(recipes123[i])): [i]})\n",
    "        \n",
    "ids1_steps"
   ]
  },
  {
   "cell_type": "markdown",
   "metadata": {},
   "source": [
    "3.3 Получите список рецептов, в этапах выполнения которых есть информация о времени (часы или минуты). Для отбора подходящих рецептов обратите внимание на атрибуты соответствующих тэгов."
   ]
  },
  {
   "cell_type": "code",
   "execution_count": null,
   "metadata": {},
   "outputs": [],
   "source": [
    "recipes_with_time = {}\n",
    "\n",
    "for i in tree.getroot():\n",
    "    \n",
    "    no_time_attr = 0\n",
    "    \n",
    "    for j in i[1]:\n",
    "        \n",
    "        try:\n",
    "            tmp = []\n",
    "            for i1 in i[1]:\n",
    "                tmp.append(i1.text)\n",
    "            recipes_with_time.update({i[0].text:  tmp})\n",
    "            break\n",
    "        except KeyError:\n",
    "            no_time_attr += 1\n",
    "\n",
    "        \n",
    "recipes_with_time"
   ]
  },
  {
   "cell_type": "markdown",
   "metadata": {},
   "source": [
    "3.4 Загрузите данные из файла `recipes_sample.csv` (__ЛР2__) в таблицу `recipes`. Для строк, которые содержат пропуски в столбце `n_steps`, заполните этот столбец на основе файла  `steps_sample.xml`. Строки, в которых столбец `n_steps` заполнен, оставьте без изменений."
   ]
  },
  {
   "cell_type": "code",
   "execution_count": null,
   "metadata": {},
   "outputs": [],
   "source": [
    "for index, row in recipes.iterrows():\n",
    "    \n",
    "    if pd.isnull(row[\"n_steps\"]):\n",
    "        recipes.at[index, \"n_steps\"] = float(len(recipes123[str(row[\"id\"])]))\n",
    "        \n",
    "for index, row in recipes.iterrows():\n",
    "    print(row[\"n_steps\"])"
   ]
  },
  {
   "cell_type": "markdown",
   "metadata": {},
   "source": [
    "3.5 Проверьте, содержит ли столбец `n_steps` пропуски. Если нет, то преобразуйте его к целочисленному типу и сохраните результаты в файл `recipes_sample_with_filled_nsteps.csv`"
   ]
  },
  {
   "cell_type": "code",
   "execution_count": null,
   "metadata": {},
   "outputs": [],
   "source": [
    "def check():\n",
    "    for index, row in recipes.iterrows():\n",
    "        if pd.isnull(row[\"n_steps\"]):\n",
    "            return False\n",
    "    return True\n",
    "\n",
    "\n",
    "if check():\n",
    "    recipes[\"n_steps\"] = recipes[\"n_steps\"].apply(\"int64\") \n",
    "\n",
    "    for index, row in recipes.iterrows():\n",
    "        print(row[\"n_steps\"])\n",
    "\n",
    "recipes.to_csv(\"data/recipes_sample_with_filled_nsteps.csv\")"
   ]
  },
  {
   "cell_type": "code",
   "execution_count": null,
   "metadata": {},
   "outputs": [],
   "source": [
    "ls data"
   ]
  }
 ],
 "metadata": {
  "kernelspec": {
   "display_name": "Python 3 (ipykernel)",
   "language": "python",
   "name": "python3"
  },
  "language_info": {
   "codemirror_mode": {
    "name": "ipython",
    "version": 3
   },
   "file_extension": ".py",
   "mimetype": "text/x-python",
   "name": "python",
   "nbconvert_exporter": "python",
   "pygments_lexer": "ipython3",
   "version": "3.12.2"
  }
 },
 "nbformat": 4,
 "nbformat_minor": 4
}
