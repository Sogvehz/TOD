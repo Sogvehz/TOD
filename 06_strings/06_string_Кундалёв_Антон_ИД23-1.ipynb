{
 "cells": [
  {
   "cell_type": "markdown",
   "metadata": {},
   "source": [
    "# Работа со строковыми значениями"
   ]
  },
  {
   "cell_type": "markdown",
   "metadata": {},
   "source": [
    "__Автор задач: Блохин Н.В. (NVBlokhin@fa.ru)__\n",
    "\n",
    "Материалы:\n",
    "* Макрушин С.В. Лекция \"Работа со строковыми значениям\"\n",
    "* https://pyformat.info/\n",
    "* https://docs.python.org/3/library/re.html\n",
    "    * https://docs.python.org/3/library/re.html#flags\n",
    "    * https://docs.python.org/3/library/re.html#functions\n",
    "* https://pythonru.com/primery/primery-primeneniya-regulyarnyh-vyrazheniy-v-python\n",
    "* https://kanoki.org/2019/11/12/how-to-use-regex-in-pandas/\n",
    "* https://realpython.com/nltk-nlp-python/"
   ]
  },
  {
   "cell_type": "markdown",
   "metadata": {},
   "source": [
    "## Задачи для совместного разбора"
   ]
  },
  {
   "cell_type": "markdown",
   "metadata": {},
   "source": [
    "1. Вывести на экран данные из словаря `obj` построчно в виде `k = v`, задав формат таким образом, чтобы знак равенства оказался на одной и той же позиции во всех строках. Строковые литералы обернуть в кавычки."
   ]
  },
  {
   "cell_type": "code",
   "execution_count": 2,
   "metadata": {},
   "outputs": [],
   "source": [
    "obj = {\n",
    "    \"home_page\": \"https://github.com/pypa/sampleproject\",\n",
    "    \"keywords\": \"sample setuptools development\",\n",
    "    \"license\": \"MIT\",\n",
    "}"
   ]
  },
  {
   "cell_type": "markdown",
   "metadata": {},
   "source": [
    "2. Написать регулярное выражение,которое позволит найти номера групп студентов."
   ]
  },
  {
   "cell_type": "code",
   "execution_count": 3,
   "metadata": {},
   "outputs": [
    {
     "ename": "NameError",
     "evalue": "name 'pd' is not defined",
     "output_type": "error",
     "traceback": [
      "\u001b[1;31m---------------------------------------------------------------------------\u001b[0m",
      "\u001b[1;31mNameError\u001b[0m                                 Traceback (most recent call last)",
      "Cell \u001b[1;32mIn[3], line 1\u001b[0m\n\u001b[1;32m----> 1\u001b[0m obj \u001b[38;5;241m=\u001b[39m \u001b[43mpd\u001b[49m\u001b[38;5;241m.\u001b[39mSeries([\u001b[38;5;124m\"\u001b[39m\u001b[38;5;124mЕвгения гр.ПМ19-1\u001b[39m\u001b[38;5;124m\"\u001b[39m, \u001b[38;5;124m\"\u001b[39m\u001b[38;5;124mИлья пм 20-4\u001b[39m\u001b[38;5;124m\"\u001b[39m, \u001b[38;5;124m\"\u001b[39m\u001b[38;5;124mАнна 20-3\u001b[39m\u001b[38;5;124m\"\u001b[39m])\n\u001b[0;32m      2\u001b[0m obj\n",
      "\u001b[1;31mNameError\u001b[0m: name 'pd' is not defined"
     ]
    }
   ],
   "source": [
    "obj = pd.Series([\"Евгения гр.ПМ19-1\", \"Илья пм 20-4\", \"Анна 20-3\"])\n",
    "obj"
   ]
  },
  {
   "cell_type": "markdown",
   "metadata": {},
   "source": [
    "3. Разбейте текст формулировки задачи 2 на слова."
   ]
  },
  {
   "cell_type": "markdown",
   "metadata": {},
   "source": [
    "## Лабораторная работа 6"
   ]
  },
  {
   "cell_type": "markdown",
   "metadata": {},
   "source": [
    "### Форматирование строк"
   ]
  },
  {
   "cell_type": "code",
   "execution_count": null,
   "metadata": {},
   "outputs": [],
   "source": [
    "pip install tabulate"
   ]
  },
  {
   "cell_type": "code",
   "execution_count": 6,
   "metadata": {},
   "outputs": [],
   "source": [
    "import pandas as pd\n",
    "from random import randint"
   ]
  },
  {
   "cell_type": "markdown",
   "metadata": {},
   "source": [
    "1\\. Загрузите данные из файла `recipes_sample.csv` (__ЛР2__) в виде `pd.DataFrame` `recipes` При помощи форматирования строк выведите информацию об id рецепта и времени выполнения 5 случайных рецептов в виде таблицы следующего вида:\n",
    "\n",
    "    \n",
    "    |      id      |  minutes  |\n",
    "    |--------------------------|\n",
    "    |    61178     |    65     |\n",
    "    |    202352    |    80     |\n",
    "    |    364322    |    150    |\n",
    "    |    26177     |    20     |\n",
    "    |    224785    |    35     |\n",
    "    \n",
    "Обратите внимание, что ширина столбцов заранее неизвестна и должна рассчитываться динамически, в зависимости от тех данных, которые были выбраны. "
   ]
  },
  {
   "cell_type": "code",
   "execution_count": 7,
   "metadata": {},
   "outputs": [
    {
     "name": "stdout",
     "output_type": "stream",
     "text": [
      "|    id |   minutes |\n",
      "|------:|----------:|\n",
      "| 16957 |        39 |\n",
      "|  7336 |        30 |\n",
      "|  5405 |        35 |\n",
      "| 10127 |        25 |\n",
      "|  3628 |        40 |\n"
     ]
    }
   ],
   "source": [
    "recipes = pd.read_csv('../02_pandas/recipes_sample.csv')\n",
    "\n",
    "rand_ids = [randint(0, len(recipes)) for i in range(5)]\n",
    "\n",
    "ids_mins = recipes['minutes'][rand_ids]\n",
    "ids_mins = ids_mins.reset_index()\n",
    "ids_mins.rename(columns={'index' : 'id'}, inplace=True) \n",
    "print(ids_mins.to_markdown(index=False))"
   ]
  },
  {
   "cell_type": "markdown",
   "metadata": {},
   "source": [
    "2\\. Напишите функцию `show_info`, которая по данным о рецепте создает строку (в смысле объекта python) с описанием следующего вида:\n",
    "\n",
    "```\n",
    "\"Название Из Нескольких Слов\"\n",
    "\n",
    "1. Шаг 1\n",
    "2. Шаг 2\n",
    "----------\n",
    "Автор: contributor_id\n",
    "Среднее время приготовления: minutes минут\n",
    "```\n",
    "\n",
    "    \n",
    "Данные для создания строки получите из файлов `recipes_sample.csv` (__ЛР2__) и `steps_sample.xml` (__ЛР3__). \n",
    "Вызовите данную функцию для рецепта с id `170895` и выведите (через `print`) полученную строку на экран."
   ]
  },
  {
   "cell_type": "code",
   "execution_count": 8,
   "metadata": {},
   "outputs": [
    {
     "name": "stdout",
     "output_type": "stream",
     "text": [
      "\n",
      "    leeks and parsnips  sauteed or creamed\n",
      "    \n",
      "    1. clean the leeks and discard the dark green portions\n",
      "    2. cut the leeks lengthwise then into one-inch pieces\n",
      "    3. melt the butter in a medium skillet , med\n",
      "    4. heat\n",
      "    5. add the garlic and fry 'til fragrant\n",
      "    6. add leeks and fry until the leeks are tender , about 6-minutes\n",
      "    7. meanwhile , peel and chunk the parsnips into one-inch pieces\n",
      "    8. place in a steaming basket and steam 'til they are as tender as you prefer\n",
      "    9. i like them fork-tender\n",
      "    10. drain parsnips and add to the skillet with the leeks\n",
      "    11. add salt and pepper\n",
      "    12. gently sautee together for 5-minutes\n",
      "    13. at this point you can serve it , or continue on and cream it:\n",
      "    14. in a jar with a screw top , add the half-n-half and arrowroot\n",
      "    15. shake 'til blended\n",
      "    16. turn heat to low under the leeks and parsnips\n",
      "    17. pour in the arrowroot mixture , stirring gently as you pour\n",
      "    18. if too thick , gradually add the water\n",
      "    19. let simmer for a couple of minutes\n",
      "    20. taste to adjust seasoning , probably an additional 1 / 2 teaspoon salt\n",
      "    21. serve warm\n",
      "\n",
      "    ----------\n",
      "    Автор: 8377\n",
      "    Среднее время приготовления: 27 минут\n",
      "    \n"
     ]
    }
   ],
   "source": [
    "import xml.etree.ElementTree as ET\n",
    "\n",
    "def get_steps(id):\n",
    "        \n",
    "    tree = ET.parse('../03_data_files/data/steps_sample.xml')\n",
    "    steps = []\n",
    "    for recipe in tree.getroot():\n",
    "        if int(recipe[0].text) == id:\n",
    "            for step in recipe[1]:\n",
    "                steps.append(f\"{len(steps) + 1}. {step.text}\\n\")\n",
    "            return steps\n",
    "            \n",
    "    raise ValueError(\"Such id not found in steps_sample.xml\")\n",
    "\n",
    "def get_props(id):\n",
    "    return recipes.loc[recipes.id == id]\n",
    "    \n",
    "def show_info(id):\n",
    "    \n",
    "    \n",
    "\n",
    "    props = get_props(id)\n",
    "    steps = get_steps(id)\n",
    "    \n",
    "    return \\\n",
    "    f'''\n",
    "    {props['name'].values[0]}\n",
    "    \n",
    "    {\"    \".join(steps)}\n",
    "    ----------\n",
    "    Автор: {props['contributor_id'].values[0]}\n",
    "    Среднее время приготовления: {props['minutes'].values[0]} минут\n",
    "    '''\n",
    "\n",
    "print(show_info(170895))\n"
   ]
  },
  {
   "cell_type": "code",
   "execution_count": null,
   "metadata": {},
   "outputs": [],
   "source": [
    "assert (\n",
    "    show_info(\n",
    "        name=\"george s at the cove black bean soup\",\n",
    "        steps=[\n",
    "            \"clean the leeks and discard the dark green portions\",\n",
    "            \"cut the leeks lengthwise then into one-inch pieces\",\n",
    "            \"melt the butter in a medium skillet , med\",\n",
    "        ],\n",
    "        minutes=90,\n",
    "        author_id=35193,\n",
    "    )\n",
    "    == '\"George S At The Cove Black Bean Soup\"\\n\\n1. Clean the leeks and discard the dark green portions\\n2. Cut the leeks lengthwise then into one-inch pieces\\n3. Melt the butter in a medium skillet , med\\n----------\\nАвтор: 35193\\nСреднее время приготовления: 90 минут\\n'\n",
    ")"
   ]
  },
  {
   "cell_type": "markdown",
   "metadata": {},
   "source": [
    "## Работа с регулярными выражениями"
   ]
  },
  {
   "cell_type": "markdown",
   "metadata": {},
   "source": [
    "3\\. Напишите регулярное выражение, которое ищет следующий паттерн в строке: число (1 цифра или более), затем пробел, затем слова: hour или hours или minute или minutes. Произведите поиск по данному регулярному выражению в каждом шаге рецепта с id 25082. Выведите на экран все непустые результаты, найденные по данному шаблону."
   ]
  },
  {
   "cell_type": "code",
   "execution_count": 9,
   "metadata": {},
   "outputs": [
    {
     "name": "stdout",
     "output_type": "stream",
     "text": [
      "6. turn out onto a lightly floured board and knead for about 20 minutes , adding flour as nescessary to keep the dough from sticking to the board\n",
      "\n",
      "8. when it has been sufficiently kneaded , cover it with a damp cloth for about 10 minutes and wash and grease the bowl lightly\n",
      "\n",
      "10. let the dough rise until it springs back when you stick your finger in it , and it is about twice the size as it was before (this takes about 2 hours\n",
      "\n",
      "14. when the dough has risen twice , deflate it again and cover it with the damp cloth again for about 10 minutes , then divide it into and shape it into loaves , buns , etc\n",
      "\n",
      "17. bake at 400 for 20 minutes , and then turn the oven down to 350 and bake for 20-30 minutes longer , until the loaf is a lovely brown and sounds hollow when you thump it on the bottom\n",
      "\n"
     ]
    }
   ],
   "source": [
    "import re\n",
    "for step in get_steps(25082):\n",
    "    if re.findall(r\"\\d\\d*\\shour|hours|minute|minutes\", step):\n",
    "        print(step)"
   ]
  },
  {
   "cell_type": "markdown",
   "metadata": {},
   "source": [
    "4\\. Напишите регулярное выражение, которое ищет шаблон вида \"this..., but\" _в начале строки_ . Между словом \"this\" и частью \", but\" может находиться произвольное число букв, цифр, знаков подчеркивания и пробелов. Никаких других символов вместо многоточия быть не может. Пробел между запятой и словом \"but\" может присутствовать или отсутствовать.\n",
    "\n",
    "Используя строковые методы `pd.Series`, выясните, для каких рецептов данный шаблон содержится в тексте описания. Выведите на экран количество таких рецептов и 3 примера подходящих описаний (текст описания должен быть виден на экране полностью)."
   ]
  },
  {
   "cell_type": "code",
   "execution_count": 22,
   "metadata": {},
   "outputs": [
    {
     "data": {
      "text/html": [
       "<div>\n",
       "<style scoped>\n",
       "    .dataframe tbody tr th:only-of-type {\n",
       "        vertical-align: middle;\n",
       "    }\n",
       "\n",
       "    .dataframe tbody tr th {\n",
       "        vertical-align: top;\n",
       "    }\n",
       "\n",
       "    .dataframe thead th {\n",
       "        text-align: right;\n",
       "    }\n",
       "</style>\n",
       "<table border=\"1\" class=\"dataframe\">\n",
       "  <thead>\n",
       "    <tr style=\"text-align: right;\">\n",
       "      <th></th>\n",
       "      <th>name</th>\n",
       "      <th>id</th>\n",
       "      <th>minutes</th>\n",
       "      <th>contributor_id</th>\n",
       "      <th>submitted</th>\n",
       "      <th>n_steps</th>\n",
       "      <th>description</th>\n",
       "      <th>n_ingredients</th>\n",
       "    </tr>\n",
       "  </thead>\n",
       "  <tbody>\n",
       "  </tbody>\n",
       "</table>\n",
       "</div>"
      ],
      "text/plain": [
       "Empty DataFrame\n",
       "Columns: [name, id, minutes, contributor_id, submitted, n_steps, description, n_ingredients]\n",
       "Index: []"
      ]
     },
     "execution_count": 22,
     "metadata": {},
     "output_type": "execute_result"
    }
   ],
   "source": [
    "recipes[recipes.description.str.contains(r'this[a-zA-Z0-9\\s_]*\\.\\.\\.,\\s?but', na=False)]"
   ]
  },
  {
   "cell_type": "markdown",
   "metadata": {},
   "source": [
    "5\\. В текстах шагов рецептов обыкновенные дроби имеют вид \"a / b\". Используя регулярные выражения, уберите в тексте шагов рецепта с id 72367 пробелы до и после символа дроби. Выведите на экран шаги этого рецепта после их изменения."
   ]
  },
  {
   "cell_type": "code",
   "execution_count": 40,
   "metadata": {},
   "outputs": [
    {
     "name": "stdout",
     "output_type": "stream",
     "text": [
      "1. mix butter , flour , 1/3 c\n",
      "\n",
      "2. sugar and 1-1/4 t\n",
      "\n",
      "3. vanilla\n",
      "\n",
      "4. press into greased 9\" springform pan\n",
      "\n",
      "5. mix cream cheese , 1/4 c\n",
      "\n",
      "6. sugar , eggs and 1/2 t\n",
      "\n",
      "7. vanilla beating until fluffy\n",
      "\n",
      "8. pour over dough\n",
      "\n",
      "9. combine apples , 1/3 c\n",
      "\n",
      "10. sugar and cinnamon\n",
      "\n",
      "11. arrange on top of cream cheese mixture and sprinkle with almonds\n",
      "\n",
      "12. bake at 350 for 45-55 minutes , or until tester comes out clean\n",
      "\n"
     ]
    }
   ],
   "source": [
    "for step in get_steps(72367):\n",
    "    try:\n",
    "        start = re.search(r'\\d / \\d', step).start()\n",
    "        step = step[:start] + step[start:start+5].replace(\" \", \"\") + step[start+5:]\n",
    "    except AttributeError:\n",
    "        pass\n",
    "    print(step)\n",
    "    "
   ]
  },
  {
   "cell_type": "markdown",
   "metadata": {},
   "source": [
    "### Сегментация текста"
   ]
  },
  {
   "cell_type": "markdown",
   "metadata": {},
   "source": [
    "6\\. Разбейте тексты шагов рецептов на слова при помощи пакета `nltk`. Посчитайте и выведите на экран кол-во уникальных слов среди всех рецептов. Словом называется любая последовательность алфавитных символов (для проверки можно воспользоваться `str.isalpha`). При подсчете количества уникальных слов не учитывайте регистр."
   ]
  },
  {
   "cell_type": "code",
   "execution_count": null,
   "metadata": {
    "scrolled": true
   },
   "outputs": [
    {
     "name": "stderr",
     "output_type": "stream",
     "text": [
      "[nltk_data] Downloading package punkt to\n",
      "[nltk_data]     C:\\Users\\h\\AppData\\Roaming\\nltk_data...\n",
      "[nltk_data]   Package punkt is already up-to-date!\n"
     ]
    }
   ],
   "source": [
    "import nltk\n",
    "nltk.download('punkt')\n",
    "from nltk.tokenize import word_tokenize\n",
    "\n",
    "words = []\n",
    "\n",
    "for id in recipes['id']:\n",
    "    for step in get_steps(id):\n",
    "        for word in word_tokenize(step):\n",
    "            if word.isalpha() and word.lower() not in words:\n",
    "                words.append(word.lower())\n",
    "\n",
    "# print(word_tokens)"
   ]
  },
  {
   "cell_type": "code",
   "execution_count": null,
   "metadata": {},
   "outputs": [],
   "source": [
    "print(words)"
   ]
  },
  {
   "cell_type": "markdown",
   "metadata": {},
   "source": [
    "7\\. Разбейте описания рецептов из `recipes` на предложения при помощи пакета `nltk`. Найдите 5 самых длинных описаний (по количеству _предложений_) рецептов в датасете и выведите строки фрейма, соответствующие этим рецептами, в порядке убывания длины."
   ]
  },
  {
   "cell_type": "markdown",
   "metadata": {},
   "source": [
    "8\\. Напишите функцию, которая для заданного предложения выводит информацию о частях речи слов, входящих в предложение, в следующем виде:\n",
    "```\n",
    "PRP   VBD   DT      NNS     CC   VBD      NNS        RB   \n",
    " I  omitted the raspberries and added strawberries instead\n",
    "``` \n",
    "Для определения части речи слова можно воспользоваться `nltk.pos_tag`.\n",
    "\n",
    "Проверьте работоспособность функции на названии рецепта с id 241106.\n",
    "\n",
    "Обратите внимание, что часть речи должна находиться ровно посередине над соотвествующим словом, а между самими словами должен быть ровно один пробел.\n"
   ]
  },
  {
   "cell_type": "code",
   "execution_count": null,
   "metadata": {},
   "outputs": [],
   "source": []
  }
 ],
 "metadata": {
  "kernelspec": {
   "display_name": "Python 3 (ipykernel)",
   "language": "python",
   "name": "python3"
  },
  "language_info": {
   "codemirror_mode": {
    "name": "ipython",
    "version": 3
   },
   "file_extension": ".py",
   "mimetype": "text/x-python",
   "name": "python",
   "nbconvert_exporter": "python",
   "pygments_lexer": "ipython3",
   "version": "3.12.2"
  }
 },
 "nbformat": 4,
 "nbformat_minor": 4
}
