{
 "cells": [
  {
   "cell_type": "markdown",
   "metadata": {},
   "source": [
    "# Numpy"
   ]
  },
  {
   "cell_type": "markdown",
   "metadata": {},
   "source": [
    "Материалы:\n",
    "* Макрушин С.В. \"Лекция 1: Библиотека Numpy\"\n",
    "* https://numpy.org/doc/stable/user/index.html\n",
    "* https://numpy.org/doc/stable/reference/index.html"
   ]
  },
  {
   "cell_type": "markdown",
   "metadata": {},
   "source": [
    "## Задачи для совместного разбора"
   ]
  },
  {
   "cell_type": "code",
   "execution_count": 372,
   "metadata": {},
   "outputs": [],
   "source": [
    "import numpy as np"
   ]
  },
  {
   "cell_type": "markdown",
   "metadata": {},
   "source": [
    "1. Сгенерировать двухмерный массив `arr` размерности (4, 7), состоящий из случайных действительных чисел, равномерно распределенных в диапазоне от 0 до 20. Нормализовать значения массива с помощью преобразования вида  $𝑎𝑥+𝑏$  так, что после нормализации максимальный элемент масcива будет равен 1.0, минимальный 0.0"
   ]
  },
  {
   "cell_type": "code",
   "execution_count": 373,
   "metadata": {},
   "outputs": [
    {
     "name": "stdout",
     "output_type": "stream",
     "text": [
      "[[ 1.49352142  2.0078714   1.16424901  3.14341498 15.89737306  0.76072377\n",
      "   0.6793008 ]\n",
      " [ 0.43019881  2.7729501  14.05497778 14.51136758  0.99281763  7.54559886\n",
      "   1.63975545]\n",
      " [ 0.36638062  0.78021833  2.69539705  0.          0.2931992  13.5772979\n",
      "  15.81134262]\n",
      " [ 7.4012007   6.38180609  0.          0.          7.60296795  4.88155533\n",
      "   7.59846283]]\n",
      "[[0.05350353 0.12335168 0.07010569 0.19502253 1.         0.74719797\n",
      "  0.66117232]\n",
      " [0.         0.19108813 0.9685495  1.         0.13157572 1.\n",
      "  1.        ]\n",
      " [0.02317201 0.04934548 0.17047237 0.         0.0185436  0.8587062\n",
      "  1.        ]\n",
      " [0.97346204 0.83938353 0.         0.         1.         0.64243985\n",
      "  1.        ]]\n"
     ]
    }
   ],
   "source": [
    "import random\n",
    "\n",
    "def norm(array, element):\n",
    "    return (element - min(array)) / (max(array) - min(array))\n",
    "\n",
    "\n",
    "arr = np.array([[random.random()*random.randint(0,20) for i in range (7)] for i in range(4)])\n",
    "\n",
    "\n",
    "print(arr)\n",
    "\n",
    "for i in range(len(arr)):\n",
    "    for j in range(len(arr[i])):\n",
    "        arr[i][j] = norm(arr[i], arr[i][j])\n",
    "\n",
    "print(arr)\n"
   ]
  },
  {
   "cell_type": "markdown",
   "metadata": {},
   "source": [
    "2. Создать матрицу 8 на 10 из случайных целых (используя модуль `numpy.random`) чисел из диапозона от 0 до 10 и найти в ней строку (ее индекс и вывести саму строку), в которой сумма значений минимальна."
   ]
  },
  {
   "cell_type": "code",
   "execution_count": 374,
   "metadata": {},
   "outputs": [
    {
     "name": "stdout",
     "output_type": "stream",
     "text": [
      "[[4 1 5 5 3 6 4 6 8 2]\n",
      " [2 8 9 0 2 8 9 6 7 0]\n",
      " [2 3 9 6 6 3 9 0 3 3]\n",
      " [7 1 4 3 3 1 9 0 2 5]\n",
      " [4 2 4 4 8 6 0 8 2 6]\n",
      " [1 2 3 0 2 7 5 8 5 1]\n",
      " [0 0 1 0 9 3 0 1 0 0]\n",
      " [3 6 6 9 4 6 5 4 3 7]]\n",
      "6 [0 0 1 0 9 3 0 1 0 0]\n"
     ]
    }
   ],
   "source": [
    "rng = np.random.default_rng()\n",
    "\n",
    "arr2 = np.array([rng.integers(low=0, high=10, size=10) for i in range(8)])\n",
    "\n",
    "print(arr2)\n",
    "\n",
    "suM = [np.sum(i) for i in arr2]\n",
    "\n",
    "miN = suM.index(np.min(suM))\n",
    "\n",
    "print(miN, arr2[miN])"
   ]
  },
  {
   "cell_type": "markdown",
   "metadata": {},
   "source": [
    "3. Найти евклидово расстояние между двумя одномерными векторами одинаковой размерности."
   ]
  },
  {
   "cell_type": "code",
   "execution_count": 375,
   "metadata": {},
   "outputs": [
    {
     "data": {
      "text/plain": [
       "543.9567997552747"
      ]
     },
     "execution_count": 375,
     "metadata": {},
     "output_type": "execute_result"
    }
   ],
   "source": [
    "a = np.array((-6, 3, 1))\n",
    "b = np.array((413, 61, -341))\n",
    "\n",
    "np.linalg.norm(a - b)"
   ]
  },
  {
   "cell_type": "markdown",
   "metadata": {},
   "source": [
    "4. Решить матричное уравнение `A*X*B=-C` - найти матрицу `X`. Где `A = [[-1, 2, 4], [-3, 1, 2], [-3, 0, 1]]`, `B=[[3, -1], [2, 1]]`, `C=[[7, 21], [11, 8], [8, 4]]`."
   ]
  },
  {
   "cell_type": "code",
   "execution_count": 376,
   "metadata": {},
   "outputs": [
    {
     "name": "stdout",
     "output_type": "stream",
     "text": [
      "[[ 1.00000000e+00  5.32907052e-16]\n",
      " [-2.00000000e+00  1.00000000e+00]\n",
      " [ 3.00000000e+00 -4.00000000e+00]]\n"
     ]
    }
   ],
   "source": [
    "A = np.matrix([[-1, 2, 4], [-3, 1, 2], [-3, 0, 1]])\n",
    "B = np.matrix([[3, -1], [2, 1]])\n",
    "C = np.matrix([[7, 21], [11, 8], [8, 4]])\n",
    "\n",
    "print(np.linalg.inv(A) * -C * np.linalg.inv(B))\n",
    "\n"
   ]
  },
  {
   "cell_type": "markdown",
   "metadata": {},
   "source": [
    "## Лабораторная работа №1"
   ]
  },
  {
   "cell_type": "markdown",
   "metadata": {},
   "source": [
    "Замечание: при решении данных задач не подразумевается использования циклов или генераторов Python, если в задании не сказано обратного. Решение должно опираться на использования функционала библиотеки `numpy`."
   ]
  },
  {
   "cell_type": "markdown",
   "metadata": {},
   "source": [
    "1. Файл `minutes_n_ingredients.csv` содержит информацию об идентификаторе рецепта, времени его выполнения в минутах и количестве необходимых ингредиентов. Считайте данные из этого файла в виде массива `numpy` типа `int32`, используя `np.loadtxt`. Выведите на экран первые 5 строк массива."
   ]
  },
  {
   "cell_type": "code",
   "execution_count": 377,
   "metadata": {},
   "outputs": [],
   "source": [
    "minutes_n = np.loadtxt(\"minutes_n_ingredients.csv\", dtype=\"int32\", delimiter=',', skiprows=1)\n",
    "minutes_n[:5,:]\n",
    "origin = minutes_n"
   ]
  },
  {
   "cell_type": "markdown",
   "metadata": {},
   "source": [
    "2. Вычислите среднее значение, минимум, максимум и медиану по каждому из столбцов, кроме первого."
   ]
  },
  {
   "cell_type": "code",
   "execution_count": 378,
   "metadata": {},
   "outputs": [
    {
     "name": "stdout",
     "output_type": "stream",
     "text": [
      "min 0 max 2147483647 med 40.0\n",
      "min 1 max 39 med 9.0\n"
     ]
    }
   ],
   "source": [
    "shaped = [minutes_n[:, i] for i in range(1, len(minutes_n[0]))]\n",
    "\n",
    "for i in shaped:\n",
    "    print(f'min {np.min(i)} max {np.max(i)} med {np.median(i)}')\n"
   ]
  },
  {
   "cell_type": "markdown",
   "metadata": {},
   "source": [
    "3. Ограничьте сверху значения продолжительности выполнения рецепта значением квантиля $q_{0.75}$. "
   ]
  },
  {
   "cell_type": "code",
   "execution_count": 379,
   "metadata": {},
   "outputs": [
    {
     "data": {
      "text/plain": [
       "array([[127244,     60,     16],\n",
       "       [ 23891,     25,      7],\n",
       "       [ 94746,     10,      6],\n",
       "       ...,\n",
       "       [498432,     65,     15],\n",
       "       [370915,      5,      4],\n",
       "       [ 81993,     65,     14]])"
      ]
     },
     "execution_count": 379,
     "metadata": {},
     "output_type": "execute_result"
    }
   ],
   "source": [
    "##### \n",
    "q0_75 = np.quantile(minutes_n[:, 1], 0.75)\n",
    "minutes_n[:, 1] = np.clip(minutes_n[:, 1], None, q0_75)\n",
    "minutes_n"
   ]
  },
  {
   "cell_type": "markdown",
   "metadata": {},
   "source": [
    "4. Посчитайте, для скольких рецептов указана продолжительность, равная нулю. Замените для таких строк значение в данном столбце на 1."
   ]
  },
  {
   "cell_type": "code",
   "execution_count": 380,
   "metadata": {},
   "outputs": [
    {
     "name": "stdout",
     "output_type": "stream",
     "text": [
      "479\n"
     ]
    },
    {
     "data": {
      "text/plain": [
       "array([[127244,     60,     16],\n",
       "       [ 23891,     25,      7],\n",
       "       [ 94746,     10,      6],\n",
       "       ...,\n",
       "       [498432,     65,     15],\n",
       "       [370915,      5,      4],\n",
       "       [ 81993,     65,     14]])"
      ]
     },
     "execution_count": 380,
     "metadata": {},
     "output_type": "execute_result"
    }
   ],
   "source": [
    "print( (minutes_n == 0).sum() )\n",
    "minutes_n[:, 1] = np.where(minutes_n[:, 1] == 0, 1, minutes_n[:, 1])\n",
    "minutes_n"
   ]
  },
  {
   "cell_type": "markdown",
   "metadata": {},
   "source": [
    "5. Посчитайте, сколько уникальных рецептов находится в датасете."
   ]
  },
  {
   "cell_type": "code",
   "execution_count": 381,
   "metadata": {},
   "outputs": [
    {
     "data": {
      "text/plain": [
       "100000"
      ]
     },
     "execution_count": 381,
     "metadata": {},
     "output_type": "execute_result"
    }
   ],
   "source": [
    "len( np.unique(minutes_n[:, 0]) )"
   ]
  },
  {
   "cell_type": "markdown",
   "metadata": {},
   "source": [
    "6. Сколько и каких различных значений кол-ва ингредиентов присутвует в рецептах из датасета?"
   ]
  },
  {
   "cell_type": "code",
   "execution_count": 382,
   "metadata": {},
   "outputs": [
    {
     "data": {
      "text/plain": [
       "{1: 13,\n",
       " 2: 926,\n",
       " 3: 2895,\n",
       " 4: 5515,\n",
       " 5: 7913,\n",
       " 6: 9376,\n",
       " 7: 10628,\n",
       " 8: 10951,\n",
       " 9: 10585,\n",
       " 10: 9591,\n",
       " 11: 8297,\n",
       " 12: 6605,\n",
       " 13: 4997,\n",
       " 14: 3663,\n",
       " 15: 2595,\n",
       " 16: 1767,\n",
       " 17: 1246,\n",
       " 18: 790,\n",
       " 19: 573,\n",
       " 20: 376,\n",
       " 21: 217,\n",
       " 22: 161,\n",
       " 23: 105,\n",
       " 24: 69,\n",
       " 25: 50,\n",
       " 26: 28,\n",
       " 27: 16,\n",
       " 28: 16,\n",
       " 29: 12,\n",
       " 30: 12,\n",
       " 31: 3,\n",
       " 32: 1,\n",
       " 33: 2,\n",
       " 34: 1,\n",
       " 35: 3,\n",
       " 37: 1,\n",
       " 39: 1}"
      ]
     },
     "execution_count": 382,
     "metadata": {},
     "output_type": "execute_result"
    }
   ],
   "source": [
    "u, c =  np.unique(minutes_n[:, 2], return_counts=True)\n",
    "dict(zip( u, c ))\n"
   ]
  },
  {
   "cell_type": "markdown",
   "metadata": {},
   "source": [
    "7. Создайте версию массива, содержащую информацию только о рецептах, состоящих не более чем из 5 ингредиентов."
   ]
  },
  {
   "cell_type": "code",
   "execution_count": 383,
   "metadata": {},
   "outputs": [
    {
     "data": {
      "text/plain": [
       "array([[446597,     15,      5],\n",
       "       [204134,      5,      3],\n",
       "       [ 25623,      6,      4],\n",
       "       ...,\n",
       "       [ 52088,     60,      5],\n",
       "       [128811,     15,      4],\n",
       "       [370915,      5,      4]])"
      ]
     },
     "execution_count": 383,
     "metadata": {},
     "output_type": "execute_result"
    }
   ],
   "source": [
    "minutes_n[minutes_n[:, 2]<=5]"
   ]
  },
  {
   "cell_type": "markdown",
   "metadata": {},
   "source": [
    "8. Для каждого рецепта посчитайте, сколько в среднем ингредиентов приходится на одну минуту рецепта. Найдите максимальное значение этой величины для всего датасета"
   ]
  },
  {
   "cell_type": "code",
   "execution_count": 384,
   "metadata": {},
   "outputs": [
    {
     "data": {
      "text/plain": [
       "(0.3983000355849976, 24.0)"
      ]
     },
     "execution_count": 384,
     "metadata": {},
     "output_type": "execute_result"
    }
   ],
   "source": [
    "sum( minutes_n[:, 2] / minutes_n[:, 1] ) / len(minutes_n), np.max( minutes_n[:, 2] / minutes_n[:, 1] )"
   ]
  },
  {
   "cell_type": "markdown",
   "metadata": {},
   "source": [
    "9. Вычислите среднее количество ингредиентов для топ-100 рецептов с наибольшей продолжительностью"
   ]
  },
  {
   "cell_type": "code",
   "execution_count": 385,
   "metadata": {},
   "outputs": [
    {
     "data": {
      "text/plain": [
       "array([[127244,     60,     16],\n",
       "       [ 23891,     25,      7],\n",
       "       [ 94746,     10,      6],\n",
       "       ...,\n",
       "       [498432,     65,     15],\n",
       "       [370915,      5,      4],\n",
       "       [ 81993,     65,     14]])"
      ]
     },
     "execution_count": 385,
     "metadata": {},
     "output_type": "execute_result"
    }
   ],
   "source": [
    "minutes_n"
   ]
  },
  {
   "cell_type": "code",
   "execution_count": 386,
   "metadata": {},
   "outputs": [
    {
     "data": {
      "text/plain": [
       "9.96"
      ]
     },
     "execution_count": 386,
     "metadata": {},
     "output_type": "execute_result"
    }
   ],
   "source": [
    "# top_100 = minutes_n[minutes_n[:, 1].argsort()][:-101:-1, :]\n",
    "top_100 = np.flip( minutes_n[minutes_n[:, 1].argsort()], 0)[:100, :]\n",
    "np.average( top_100[:, 2] )"
   ]
  },
  {
   "cell_type": "markdown",
   "metadata": {},
   "source": [
    "10. Выберите случайным образом и выведите информацию о 10 различных рецептах"
   ]
  },
  {
   "cell_type": "code",
   "execution_count": 387,
   "metadata": {},
   "outputs": [
    {
     "name": "stdout",
     "output_type": "stream",
     "text": [
      "[61901 81587 19478 22335 29157 36661 83853 92030 37414  9644]\n"
     ]
    },
    {
     "data": {
      "text/plain": [
       "array([[374656,      2,      5],\n",
       "       [ 34965,     30,      8],\n",
       "       [351116,     25,      6],\n",
       "       [100018,     65,      4],\n",
       "       [215475,     50,      6],\n",
       "       [282967,     55,     14],\n",
       "       [386465,     15,      5],\n",
       "       [164423,     23,      7],\n",
       "       [255720,     22,      8],\n",
       "       [354212,     45,     11]])"
      ]
     },
     "execution_count": 387,
     "metadata": {},
     "output_type": "execute_result"
    }
   ],
   "source": [
    "rnd = np.random.default_rng().integers(len(minutes_n), size=10)\n",
    "print(rnd)\n",
    "minutes_n[rnd]"
   ]
  },
  {
   "cell_type": "markdown",
   "metadata": {},
   "source": [
    "11. Выведите процент рецептов, кол-во ингредиентов в которых меньше среднего."
   ]
  },
  {
   "cell_type": "code",
   "execution_count": 388,
   "metadata": {},
   "outputs": [
    {
     "data": {
      "text/plain": [
       "58.802"
      ]
     },
     "execution_count": 388,
     "metadata": {},
     "output_type": "execute_result"
    }
   ],
   "source": [
    "len( minutes_n[minutes_n[:, 2] < np.average( top_100[:, 2] )] ) / len(minutes_n) * 100"
   ]
  },
  {
   "cell_type": "markdown",
   "metadata": {},
   "source": [
    "12. Назовем \"простым\" такой рецепт, длительность выполнения которого не больше 20 минут и кол-во ингредиентов в котором не больше 5. Создайте версию датасета с дополнительным столбцом, значениями которого являются 1, если рецепт простой, и 0 в противном случае."
   ]
  },
  {
   "cell_type": "code",
   "execution_count": 415,
   "metadata": {},
   "outputs": [
    {
     "data": {
      "text/plain": [
       "array([[127244,     60,     16,      0],\n",
       "       [ 23891,     25,      7,      0],\n",
       "       [ 94746,     10,      6,      0],\n",
       "       ...,\n",
       "       [498432,     65,     15,      0],\n",
       "       [370915,      5,      4,      1],\n",
       "       [ 81993,     65,     14,      0]])"
      ]
     },
     "execution_count": 415,
     "metadata": {},
     "output_type": "execute_result"
    }
   ],
   "source": [
    "zeroz = np.zeros(len(minutes_n), dtype=\"int32\").reshape(-1, 1)\n",
    "zeroz[ np.logical_and( minutes_n[:, 2] <= 5, minutes_n[:, 1] <= 20 )  ] = 1\n",
    "minutes_n_s = np.concatenate( (minutes_n, zeroz), axis=1)\n",
    "minutes_n_s"
   ]
  },
  {
   "cell_type": "markdown",
   "metadata": {},
   "source": [
    "13. Выведите процент \"простых\" рецептов в датасете"
   ]
  },
  {
   "cell_type": "code",
   "execution_count": 421,
   "metadata": {},
   "outputs": [
    {
     "data": {
      "text/plain": [
       "0.09552"
      ]
     },
     "execution_count": 421,
     "metadata": {},
     "output_type": "execute_result"
    }
   ],
   "source": [
    "sum(minutes_n_s[:, 3]) / len(minutes_n_s)"
   ]
  },
  {
   "cell_type": "markdown",
   "metadata": {},
   "source": [
    "14. Разделим рецепты на группы по следующему правилу. Назовем рецепты короткими, если их продолжительность составляет менее 10 минут; стандартными, если их продолжительность составляет более 10, но менее 20 минут; и длинными, если их продолжительность составляет не менее 20 минут. Создайте трехмерный массив, где нулевая ось отвечает за номер группы (короткий, стандартный или длинный рецепт), первая ось - за сам рецепт и вторая ось - за характеристики рецепта. Выберите максимальное количество рецептов из каждой группы таким образом, чтобы было возможно сформировать трехмерный массив. Выведите форму полученного массива."
   ]
  },
  {
   "cell_type": "code",
   "execution_count": 463,
   "metadata": {},
   "outputs": [
    {
     "data": {
      "text/plain": [
       "[array([[ 67660,      5,      6],\n",
       "        [366174,      7,      9],\n",
       "        [204134,      5,      3],\n",
       "        ...,\n",
       "        [420725,      5,      3],\n",
       "        [  4747,      1,      9],\n",
       "        [370915,      5,      4]]),\n",
       " array([[ 33941,     18,      9],\n",
       "        [446597,     15,      5],\n",
       "        [ 81006,     12,      7],\n",
       "        ...,\n",
       "        [ 44120,     17,      5],\n",
       "        [ 60756,     15,      5],\n",
       "        [128811,     15,      4]]),\n",
       " array([[127244,     60,     16],\n",
       "        [ 23891,     25,      7],\n",
       "        [157911,     60,     14],\n",
       "        ...,\n",
       "        [287943,     65,     15],\n",
       "        [498432,     65,     15],\n",
       "        [ 81993,     65,     14]])]"
      ]
     },
     "execution_count": 463,
     "metadata": {},
     "output_type": "execute_result"
    }
   ],
   "source": [
    "shrt = minutes_n[ minutes_n[:, 1] < 10 ]\n",
    "std  = minutes_n[ np.logical_and( 10 < minutes_n[:, 1], minutes_n[:, 1] < 20 ) ]\n",
    "lng  = minutes_n[ minutes_n[:, 1] >= 20 ]\n",
    "# print(np.ndarray(shrt, std, lng))\n",
    "\n",
    "a = []\n",
    "for i in [shrt, std, lng]:\n",
    "    a.append(i)\n",
    "a\n",
    "np.asarray(a)\n",
    "# np.concatenate( (shrt, std, lng) ).shape\n",
    "# # np.vstack( [shrt, std, lng])\n",
    "# np.array((shrt, std, lng))"
   ]
  }
 ],
 "metadata": {
  "kernelspec": {
   "display_name": "Python 3 (ipykernel)",
   "language": "python",
   "name": "python3"
  },
  "language_info": {
   "codemirror_mode": {
    "name": "ipython",
    "version": 3
   },
   "file_extension": ".py",
   "mimetype": "text/x-python",
   "name": "python",
   "nbconvert_exporter": "python",
   "pygments_lexer": "ipython3",
   "version": "3.12.2"
  }
 },
 "nbformat": 4,
 "nbformat_minor": 4
}
